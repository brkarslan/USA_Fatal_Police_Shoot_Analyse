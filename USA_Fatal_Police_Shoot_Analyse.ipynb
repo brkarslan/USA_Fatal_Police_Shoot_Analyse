{
 "cells": [
  {
   "cell_type": "markdown",
   "id": "pointed-jewelry",
   "metadata": {},
   "source": [
    "## USA_Fatal_Police_Shoot_Analyse"
   ]
  },
  {
   "cell_type": "markdown",
   "id": "worth-glucose",
   "metadata": {},
   "source": [
    "#### Burak Arslan, Derya Ekin, Yunus Emre Yılmaz"
   ]
  },
  {
   "cell_type": "markdown",
   "id": "constitutional-pittsburgh",
   "metadata": {},
   "source": [
    "## Table of Contents:\n",
    "* [Goal](#goal)\n",
    "* [Data Preprocessing](#predata)\n",
    "    * [Importing the Libraries](#library)\n",
    "    * [Reading and Viewing the Dataset](#dataset)\n",
    "* [Data Wrangling](#wrangling)\n",
    "* [Data Visulaziton](#visulaziton) \n",
    "    * [Display of Mean Values of each Geographic Area and Plot With Pandas method](#vis_1) \n",
    "    * [Plot Sorted Values With Pandas Built in Method](#vis_2)\n",
    "    * [Plot Sorted Values with Matplotlib](#vis_3)\n",
    "    * [Preparing Most common 15 Names or Surnames of People Killed Dataframes](#Pre_15_Names)\n",
    "    * [15 Most Common Names of People Killed](#vis_4)\n",
    "    * [Preparing People Killed by Race Dataframes](#Pre_Race)\n",
    "    * [Pie Chart Graphic of People Killed by Rac](#vis_5)\n",
    "    * [Box plot of age in both genders separated by manner of death](#vis_6)\n",
    "    * [Swarm plot of age in both genders separated by manner of death](#vis_7)\n",
    "    * [Number of people by gender](#vis_8)\n",
    "    * [Bar graph of 7 most common killing weapons](#vis_9)\n",
    "    * [Bar graph of Under 25 and Above 25](#vis_10)\n",
    "    * [Number of people killed by race](#vis_11)\n",
    "    * [Bar Graph of 12 most dangerous cities](#vis_12)\n",
    "    * [Bar Graph of 20 most dangerous states](#vis_13)\n",
    "    * [Bar Graph of People Killed Having Mental Ilness or not](#vis_14)\n",
    "    * [Number of Threat Types](#vis_15)\n",
    "    * [Number of Flee Types](#vis_16)\n",
    "* [CONCLUSION](#conc)"
   ]
  },
  {
   "cell_type": "markdown",
   "id": "lesser-ceramic",
   "metadata": {},
   "source": [
    "## Goal <a class=\"anchor\" id=\"goal\"></a>"
   ]
  },
  {
   "cell_type": "markdown",
   "id": "brazilian-french",
   "metadata": {},
   "source": [
    "We are going to be analyzing a dataset of USA_Fatal_Police_Shoot in the USA states. We are trying to find any relationship between the other features such as race, gender and age. \n",
    "\n",
    "\n",
    "\n"
   ]
  },
  {
   "cell_type": "markdown",
   "id": "copyrighted-industry",
   "metadata": {},
   "source": [
    "## Data Preprocessing <a class=\"anchor\" id=\"predata\"></a>"
   ]
  },
  {
   "cell_type": "markdown",
   "id": "heated-athletics",
   "metadata": {},
   "source": [
    "### Importing the Libraries <a class=\"anchor\" id=\"library\"></a>"
   ]
  },
  {
   "cell_type": "code",
   "execution_count": 2,
   "id": "global-cornell",
   "metadata": {},
   "outputs": [],
   "source": [
    "import pandas as pd\n",
    "import numpy as np\n",
    "import matplotlib.pyplot as plt\n",
    "import math\n",
    "import seaborn as sns\n",
    "import warnings\n",
    "warnings.filterwarnings('ignore') \n",
    "sns.set_theme(style=\"white\", context=\"talk\",font_scale=0.5)\n"
   ]
  },
  {
   "cell_type": "markdown",
   "id": "copyrighted-organic",
   "metadata": {},
   "source": [
    "### Reading and Viewing the Dataset <a class=\"anchor\" id=\"dataset\"></a>"
   ]
  },
  {
   "cell_type": "code",
   "execution_count": 3,
   "id": "secret-formation",
   "metadata": {},
   "outputs": [],
   "source": [
    "poverty=pd.read_csv(\"PercentagePeopleBelowPovertyLevel.csv\")\n",
    "killing=pd.read_csv(\"PoliceKillingsUS.csv\")\n",
    "race=pd.read_csv(\"ShareRaceByCity.csv\")"
   ]
  },
  {
   "cell_type": "code",
   "execution_count": null,
   "id": "manufactured-trust",
   "metadata": {},
   "outputs": [],
   "source": [
    "killing2=killing.copy()"
   ]
  },
  {
   "cell_type": "code",
   "execution_count": null,
   "id": "composite-equality",
   "metadata": {},
   "outputs": [],
   "source": [
    "poverty.head()"
   ]
  },
  {
   "cell_type": "markdown",
   "id": "individual-crossing",
   "metadata": {},
   "source": [
    "### Data Wrangling <a class=\"anchor\" id = \"wrangling\" ></a>\n"
   ]
  },
  {
   "cell_type": "markdown",
   "id": "current-oliver",
   "metadata": {},
   "source": [
    "### \"-\" means uncertain so it is replaced with \"0\"."
   ]
  },
  {
   "cell_type": "code",
   "execution_count": 4,
   "id": "convertible-afghanistan",
   "metadata": {},
   "outputs": [],
   "source": [
    "poverty.poverty_rate = poverty.poverty_rate.replace([\"-\"], 0.0)\n",
    "#poverty.drop(poverty.loc[poverty['poverty_rate']==\"-\"].index, inplace=True)"
   ]
  },
  {
   "cell_type": "code",
   "execution_count": 5,
   "id": "dried-pleasure",
   "metadata": {},
   "outputs": [
    {
     "data": {
      "text/plain": [
       "Geographic Area    object\n",
       "City               object\n",
       "poverty_rate       object\n",
       "dtype: object"
      ]
     },
     "execution_count": 5,
     "metadata": {},
     "output_type": "execute_result"
    }
   ],
   "source": [
    "poverty.dtypes"
   ]
  },
  {
   "cell_type": "code",
   "execution_count": 6,
   "id": "downtown-ghost",
   "metadata": {},
   "outputs": [
    {
     "data": {
      "text/plain": [
       "(29329, 3)"
      ]
     },
     "execution_count": 6,
     "metadata": {},
     "output_type": "execute_result"
    }
   ],
   "source": [
    "poverty.shape"
   ]
  },
  {
   "cell_type": "code",
   "execution_count": 7,
   "id": "sudden-formula",
   "metadata": {},
   "outputs": [
    {
     "data": {
      "text/html": [
       "<div>\n",
       "<style scoped>\n",
       "    .dataframe tbody tr th:only-of-type {\n",
       "        vertical-align: middle;\n",
       "    }\n",
       "\n",
       "    .dataframe tbody tr th {\n",
       "        vertical-align: top;\n",
       "    }\n",
       "\n",
       "    .dataframe thead th {\n",
       "        text-align: right;\n",
       "    }\n",
       "</style>\n",
       "<table border=\"1\" class=\"dataframe\">\n",
       "  <thead>\n",
       "    <tr style=\"text-align: right;\">\n",
       "      <th></th>\n",
       "      <th>Geographic Area</th>\n",
       "      <th>City</th>\n",
       "      <th>poverty_rate</th>\n",
       "    </tr>\n",
       "  </thead>\n",
       "  <tbody>\n",
       "    <tr>\n",
       "      <th>count</th>\n",
       "      <td>29329</td>\n",
       "      <td>29329</td>\n",
       "      <td>29329</td>\n",
       "    </tr>\n",
       "    <tr>\n",
       "      <th>unique</th>\n",
       "      <td>51</td>\n",
       "      <td>24255</td>\n",
       "      <td>771</td>\n",
       "    </tr>\n",
       "    <tr>\n",
       "      <th>top</th>\n",
       "      <td>PA</td>\n",
       "      <td>Franklin city</td>\n",
       "      <td>0</td>\n",
       "    </tr>\n",
       "    <tr>\n",
       "      <th>freq</th>\n",
       "      <td>1762</td>\n",
       "      <td>16</td>\n",
       "      <td>1464</td>\n",
       "    </tr>\n",
       "  </tbody>\n",
       "</table>\n",
       "</div>"
      ],
      "text/plain": [
       "       Geographic Area           City poverty_rate\n",
       "count            29329          29329        29329\n",
       "unique              51          24255          771\n",
       "top                 PA  Franklin city            0\n",
       "freq              1762             16         1464"
      ]
     },
     "execution_count": 7,
     "metadata": {},
     "output_type": "execute_result"
    }
   ],
   "source": [
    "poverty.describe()"
   ]
  },
  {
   "cell_type": "code",
   "execution_count": 8,
   "id": "certain-variation",
   "metadata": {},
   "outputs": [
    {
     "data": {
      "text/plain": [
       "Geographic Area  City                   poverty_rate\n",
       "AK               Adak city              39.3            1\n",
       "OH               Geneva city            12.2            1\n",
       "                 Garrettsville village  11.1            1\n",
       "                 Garfield Heights city  18.7            1\n",
       "                 Gann village           33.8            1\n",
       "                                                       ..\n",
       "KS               Wilson city            15.8            1\n",
       "                 Wilsey city            20.7            1\n",
       "                 Wilroads Gardens CDP   15.7            1\n",
       "                 Wilmore city           7.7             1\n",
       "WY               Yoder town             5.4             1\n",
       "Length: 29329, dtype: int64"
      ]
     },
     "execution_count": 8,
     "metadata": {},
     "output_type": "execute_result"
    }
   ],
   "source": [
    "poverty.value_counts()"
   ]
  },
  {
   "cell_type": "code",
   "execution_count": 9,
   "id": "stuffed-metropolitan",
   "metadata": {},
   "outputs": [
    {
     "data": {
      "text/plain": [
       "Geographic Area    0\n",
       "City               0\n",
       "poverty_rate       0\n",
       "dtype: int64"
      ]
     },
     "execution_count": 9,
     "metadata": {},
     "output_type": "execute_result"
    }
   ],
   "source": [
    "poverty.isnull().sum()"
   ]
  },
  {
   "cell_type": "markdown",
   "id": "blank-broadcast",
   "metadata": {},
   "source": [
    "### Type of poverty_rate column is impracticle, so it is converted to numeric type (float) for more effective results. "
   ]
  },
  {
   "cell_type": "code",
   "execution_count": 10,
   "id": "dressed-insider",
   "metadata": {},
   "outputs": [],
   "source": [
    "poverty.poverty_rate=poverty.poverty_rate.astype(\"float\")"
   ]
  },
  {
   "cell_type": "code",
   "execution_count": 11,
   "id": "dietary-candle",
   "metadata": {},
   "outputs": [],
   "source": [
    "pvrty=poverty.groupby([\"Geographic Area\"]).poverty_rate.mean()"
   ]
  },
  {
   "cell_type": "markdown",
   "id": "opened-imperial",
   "metadata": {},
   "source": [
    "## Data Visulaziton <a class=\"anchor\" id = \"visulaziton\" ></a>\n"
   ]
  },
  {
   "cell_type": "markdown",
   "id": "human-westminster",
   "metadata": {},
   "source": [
    "###  Display of Mean Values of each Geographic Area and Plot With Pandas  method <a class=\"anchor\" id = \"vis_1\" ></a>"
   ]
  },
  {
   "cell_type": "code",
   "execution_count": 67,
   "id": "speaking-vinyl",
   "metadata": {},
   "outputs": [
    {
     "data": {
      "image/png": "[encoded data removed]",
      "text/plain": [
       "<Figure size 1440x720 with 1 Axes>"
      ]
     },
     "metadata": {},
     "output_type": "display_data"
    }
   ],
   "source": [
    "pvrty.plot(figsize = (20,10), kind = \"bar\",label=\"Poverty Rate\")\n",
    "plt.xlabel(\"States\")\n",
    "plt.ylabel(\"Poverty Rate\")\n",
    "plt.title(\"Poverty Rate Given States\")\n",
    "plt.legend();"
   ]
  },
  {
   "cell_type": "markdown",
   "id": "cheap-allen",
   "metadata": {},
   "source": [
    "### Plot Sorted Values With Pandas Built in Method <a class=\"anchor\" id = \"vis_2\" ></a>"
   ]
  },
  {
   "cell_type": "code",
   "execution_count": 13,
   "id": "vietnamese-forge",
   "metadata": {
    "scrolled": true
   },
   "outputs": [],
   "source": [
    "pvrty=poverty.groupby([\"Geographic Area\"]).poverty_rate.mean().sort_values(ascending=False)"
   ]
  },
  {
   "cell_type": "code",
   "execution_count": 14,
   "id": "together-privilege",
   "metadata": {
    "scrolled": true
   },
   "outputs": [
    {
     "data": {
      "image/png": "[encoded data removed]",
      "text/plain": [
       "<Figure size 1440x720 with 1 Axes>"
      ]
     },
     "metadata": {
      "needs_background": "light"
     },
     "output_type": "display_data"
    }
   ],
   "source": [
    "pvrty.plot(figsize = (20,10), kind = \"bar\",label=\"Poverty Rate\")\n",
    "plt.xlabel(\"States\")\n",
    "plt.ylabel(\"Poverty Rate\")\n",
    "plt.title(\"Poverty Rate Given States\")\n",
    "plt.legend();"
   ]
  },
  {
   "cell_type": "markdown",
   "id": "integral-charm",
   "metadata": {},
   "source": [
    "*It can be seen that poverty_rate of Missisipi is the highest in all of the states. On the other hand poverty_rate of New Jersey is the lowest in all of the states."
   ]
  },
  {
   "cell_type": "markdown",
   "id": "preliminary-replica",
   "metadata": {},
   "source": [
    "### Plot Sorted Values with Matplotlib <a class=\"anchor\" id = \"vis_3\" ></a>"
   ]
  },
  {
   "cell_type": "code",
   "execution_count": 15,
   "id": "delayed-escape",
   "metadata": {},
   "outputs": [
    {
     "data": {
      "image/png": "[encoded data removed]",
      "text/plain": [
       "<Figure size 1440x720 with 1 Axes>"
      ]
     },
     "metadata": {
      "needs_background": "light"
     },
     "output_type": "display_data"
    }
   ],
   "source": [
    "fig = plt.figure(figsize= (20,10))\n",
    "ax=fig.add_subplot(111)\n",
    "plt.bar(pvrty.index, pvrty.values)\n",
    "plt.xlabel(\"States\")\n",
    "plt.ylabel(\"Poverty Rate\")\n",
    "plt.title(\"Poverty Rate Given States\")\n",
    "plt.xticks(pvrty.index, rotation='45')\n",
    "plt.show()"
   ]
  },
  {
   "cell_type": "code",
   "execution_count": 16,
   "id": "finnish-journey",
   "metadata": {},
   "outputs": [
    {
     "data": {
      "image/png": "[encoded data removed]",
      "text/plain": [
       "<Figure size 1440x720 with 1 Axes>"
      ]
     },
     "metadata": {
      "needs_background": "light"
     },
     "output_type": "display_data"
    }
   ],
   "source": [
    "import seaborn as sns\n",
    "fig = plt.figure(figsize=(20,10))\n",
    "sns.barplot(x=pvrty.index, y=pvrty.values)\n",
    "plt.xlabel(\"States\")\n",
    "plt.ylabel(\"Poverty Rate\")\n",
    "plt.xlabel(\"Poverty Rate Given States\")\n",
    "plt.xticks(rotation=\"45\")\n",
    "plt.show()"
   ]
  },
  {
   "cell_type": "markdown",
   "id": "improved-report",
   "metadata": {},
   "source": [
    "### Most common 15 Names or Surnames of People Killed <a class=\"anchor\" id = \"Pre_15_Names\" ></a> "
   ]
  },
  {
   "cell_type": "code",
   "execution_count": 17,
   "id": "endangered-count",
   "metadata": {},
   "outputs": [
    {
     "data": {
      "text/html": [
       "<div>\n",
       "<style scoped>\n",
       "    .dataframe tbody tr th:only-of-type {\n",
       "        vertical-align: middle;\n",
       "    }\n",
       "\n",
       "    .dataframe tbody tr th {\n",
       "        vertical-align: top;\n",
       "    }\n",
       "\n",
       "    .dataframe thead th {\n",
       "        text-align: right;\n",
       "    }\n",
       "</style>\n",
       "<table border=\"1\" class=\"dataframe\">\n",
       "  <thead>\n",
       "    <tr style=\"text-align: right;\">\n",
       "      <th></th>\n",
       "      <th>id</th>\n",
       "      <th>name</th>\n",
       "      <th>date</th>\n",
       "      <th>manner_of_death</th>\n",
       "      <th>armed</th>\n",
       "      <th>age</th>\n",
       "      <th>gender</th>\n",
       "      <th>race</th>\n",
       "      <th>city</th>\n",
       "      <th>state</th>\n",
       "      <th>signs_of_mental_illness</th>\n",
       "      <th>threat_level</th>\n",
       "      <th>flee</th>\n",
       "      <th>body_camera</th>\n",
       "    </tr>\n",
       "  </thead>\n",
       "  <tbody>\n",
       "    <tr>\n",
       "      <th>0</th>\n",
       "      <td>3</td>\n",
       "      <td>Tim Elliot</td>\n",
       "      <td>02/01/15</td>\n",
       "      <td>shot</td>\n",
       "      <td>gun</td>\n",
       "      <td>53.0</td>\n",
       "      <td>M</td>\n",
       "      <td>A</td>\n",
       "      <td>Shelton</td>\n",
       "      <td>WA</td>\n",
       "      <td>True</td>\n",
       "      <td>attack</td>\n",
       "      <td>Not fleeing</td>\n",
       "      <td>False</td>\n",
       "    </tr>\n",
       "    <tr>\n",
       "      <th>1</th>\n",
       "      <td>4</td>\n",
       "      <td>Lewis Lee Lembke</td>\n",
       "      <td>02/01/15</td>\n",
       "      <td>shot</td>\n",
       "      <td>gun</td>\n",
       "      <td>47.0</td>\n",
       "      <td>M</td>\n",
       "      <td>W</td>\n",
       "      <td>Aloha</td>\n",
       "      <td>OR</td>\n",
       "      <td>False</td>\n",
       "      <td>attack</td>\n",
       "      <td>Not fleeing</td>\n",
       "      <td>False</td>\n",
       "    </tr>\n",
       "    <tr>\n",
       "      <th>2</th>\n",
       "      <td>5</td>\n",
       "      <td>John Paul Quintero</td>\n",
       "      <td>03/01/15</td>\n",
       "      <td>shot and Tasered</td>\n",
       "      <td>unarmed</td>\n",
       "      <td>23.0</td>\n",
       "      <td>M</td>\n",
       "      <td>H</td>\n",
       "      <td>Wichita</td>\n",
       "      <td>KS</td>\n",
       "      <td>False</td>\n",
       "      <td>other</td>\n",
       "      <td>Not fleeing</td>\n",
       "      <td>False</td>\n",
       "    </tr>\n",
       "    <tr>\n",
       "      <th>3</th>\n",
       "      <td>8</td>\n",
       "      <td>Matthew Hoffman</td>\n",
       "      <td>04/01/15</td>\n",
       "      <td>shot</td>\n",
       "      <td>toy weapon</td>\n",
       "      <td>32.0</td>\n",
       "      <td>M</td>\n",
       "      <td>W</td>\n",
       "      <td>San Francisco</td>\n",
       "      <td>CA</td>\n",
       "      <td>True</td>\n",
       "      <td>attack</td>\n",
       "      <td>Not fleeing</td>\n",
       "      <td>False</td>\n",
       "    </tr>\n",
       "    <tr>\n",
       "      <th>4</th>\n",
       "      <td>9</td>\n",
       "      <td>Michael Rodriguez</td>\n",
       "      <td>04/01/15</td>\n",
       "      <td>shot</td>\n",
       "      <td>nail gun</td>\n",
       "      <td>39.0</td>\n",
       "      <td>M</td>\n",
       "      <td>H</td>\n",
       "      <td>Evans</td>\n",
       "      <td>CO</td>\n",
       "      <td>False</td>\n",
       "      <td>attack</td>\n",
       "      <td>Not fleeing</td>\n",
       "      <td>False</td>\n",
       "    </tr>\n",
       "  </tbody>\n",
       "</table>\n",
       "</div>"
      ],
      "text/plain": [
       "   id                name      date   manner_of_death       armed   age  \\\n",
       "0   3          Tim Elliot  02/01/15              shot         gun  53.0   \n",
       "1   4    Lewis Lee Lembke  02/01/15              shot         gun  47.0   \n",
       "2   5  John Paul Quintero  03/01/15  shot and Tasered     unarmed  23.0   \n",
       "3   8     Matthew Hoffman  04/01/15              shot  toy weapon  32.0   \n",
       "4   9   Michael Rodriguez  04/01/15              shot    nail gun  39.0   \n",
       "\n",
       "  gender race           city state  signs_of_mental_illness threat_level  \\\n",
       "0      M    A        Shelton    WA                     True       attack   \n",
       "1      M    W          Aloha    OR                    False       attack   \n",
       "2      M    H        Wichita    KS                    False        other   \n",
       "3      M    W  San Francisco    CA                     True       attack   \n",
       "4      M    H          Evans    CO                    False       attack   \n",
       "\n",
       "          flee  body_camera  \n",
       "0  Not fleeing        False  \n",
       "1  Not fleeing        False  \n",
       "2  Not fleeing        False  \n",
       "3  Not fleeing        False  \n",
       "4  Not fleeing        False  "
      ]
     },
     "execution_count": 17,
     "metadata": {},
     "output_type": "execute_result"
    }
   ],
   "source": [
    "killing.head()"
   ]
  },
  {
   "cell_type": "code",
   "execution_count": 18,
   "id": "specialized-musician",
   "metadata": {},
   "outputs": [
    {
     "data": {
      "text/html": [
       "<div>\n",
       "<style scoped>\n",
       "    .dataframe tbody tr th:only-of-type {\n",
       "        vertical-align: middle;\n",
       "    }\n",
       "\n",
       "    .dataframe tbody tr th {\n",
       "        vertical-align: top;\n",
       "    }\n",
       "\n",
       "    .dataframe thead th {\n",
       "        text-align: right;\n",
       "    }\n",
       "</style>\n",
       "<table border=\"1\" class=\"dataframe\">\n",
       "  <thead>\n",
       "    <tr style=\"text-align: right;\">\n",
       "      <th></th>\n",
       "      <th>id</th>\n",
       "      <th>age</th>\n",
       "    </tr>\n",
       "  </thead>\n",
       "  <tbody>\n",
       "    <tr>\n",
       "      <th>count</th>\n",
       "      <td>2535.000000</td>\n",
       "      <td>2458.000000</td>\n",
       "    </tr>\n",
       "    <tr>\n",
       "      <th>mean</th>\n",
       "      <td>1445.731755</td>\n",
       "      <td>36.605370</td>\n",
       "    </tr>\n",
       "    <tr>\n",
       "      <th>std</th>\n",
       "      <td>794.259490</td>\n",
       "      <td>13.030774</td>\n",
       "    </tr>\n",
       "    <tr>\n",
       "      <th>min</th>\n",
       "      <td>3.000000</td>\n",
       "      <td>6.000000</td>\n",
       "    </tr>\n",
       "    <tr>\n",
       "      <th>25%</th>\n",
       "      <td>768.500000</td>\n",
       "      <td>26.000000</td>\n",
       "    </tr>\n",
       "    <tr>\n",
       "      <th>50%</th>\n",
       "      <td>1453.000000</td>\n",
       "      <td>34.000000</td>\n",
       "    </tr>\n",
       "    <tr>\n",
       "      <th>75%</th>\n",
       "      <td>2126.500000</td>\n",
       "      <td>45.000000</td>\n",
       "    </tr>\n",
       "    <tr>\n",
       "      <th>max</th>\n",
       "      <td>2822.000000</td>\n",
       "      <td>91.000000</td>\n",
       "    </tr>\n",
       "  </tbody>\n",
       "</table>\n",
       "</div>"
      ],
      "text/plain": [
       "                id          age\n",
       "count  2535.000000  2458.000000\n",
       "mean   1445.731755    36.605370\n",
       "std     794.259490    13.030774\n",
       "min       3.000000     6.000000\n",
       "25%     768.500000    26.000000\n",
       "50%    1453.000000    34.000000\n",
       "75%    2126.500000    45.000000\n",
       "max    2822.000000    91.000000"
      ]
     },
     "execution_count": 18,
     "metadata": {},
     "output_type": "execute_result"
    }
   ],
   "source": [
    "killing.describe()"
   ]
  },
  {
   "cell_type": "markdown",
   "id": "placed-leisure",
   "metadata": {},
   "source": [
    "*Results of data as to killing show that mean of people killed by age is around 36 "
   ]
  },
  {
   "cell_type": "code",
   "execution_count": 19,
   "id": "atmospheric-subsection",
   "metadata": {},
   "outputs": [
    {
     "data": {
      "text/plain": [
       "TK TK                       49\n",
       "Brandon Jones                2\n",
       "Eric Harris                  2\n",
       "TK Tk                        2\n",
       "Daquan Antonio Westbrook     2\n",
       "                            ..\n",
       "Jose Graciano Lopez          1\n",
       "India Beaty                  1\n",
       "Douglas Buckley              1\n",
       "Barry Kirk                   1\n",
       "Fletcher Ray Stewart         1\n",
       "Name: name, Length: 2481, dtype: int64"
      ]
     },
     "execution_count": 19,
     "metadata": {},
     "output_type": "execute_result"
    }
   ],
   "source": [
    "killing.name.value_counts()"
   ]
  },
  {
   "cell_type": "markdown",
   "id": "utility-irish",
   "metadata": {},
   "source": [
    "### Name of \"TK TK\" is Removed from Name Column"
   ]
  },
  {
   "cell_type": "code",
   "execution_count": 20,
   "id": "indian-embassy",
   "metadata": {},
   "outputs": [],
   "source": [
    "pairs=killing.name[killing[\"name\"] != \"TK TK\"].str.split()"
   ]
  },
  {
   "cell_type": "code",
   "execution_count": 21,
   "id": "urban-hammer",
   "metadata": {},
   "outputs": [
    {
     "data": {
      "text/plain": [
       "0                [Tim, Elliot]\n",
       "1         [Lewis, Lee, Lembke]\n",
       "2       [John, Paul, Quintero]\n",
       "3           [Matthew, Hoffman]\n",
       "4         [Michael, Rodriguez]\n",
       "                 ...          \n",
       "2529      [Brian, J., Skinner]\n",
       "2530      [Rodney, E., Jacobs]\n",
       "2532    [Dennis, W., Robinson]\n",
       "2533          [Isaiah, Tucker]\n",
       "2534           [Dwayne, Jeune]\n",
       "Name: name, Length: 2486, dtype: object"
      ]
     },
     "execution_count": 21,
     "metadata": {},
     "output_type": "execute_result"
    }
   ],
   "source": [
    "pairs"
   ]
  },
  {
   "cell_type": "code",
   "execution_count": 22,
   "id": "reliable-reading",
   "metadata": {},
   "outputs": [],
   "source": [
    "from collections import Counter\n",
    "import collections\n",
    "isim=[]\n",
    "soyisim=[]\n",
    "for i in pairs:\n",
    "    if len(i)==2:\n",
    "        isim.append(i[0])\n",
    "        soyisim.append(i[-1])\n",
    "    elif len(i)==3:\n",
    "        isim.append(i[0]+\" \"+i[1])\n",
    "        soyisim.append(i[-1])\n",
    "    elif len(i)==4:\n",
    "        isim.append(i[0]+\" \"+i[1]+\" \"+i[2])\n",
    "        soyisim.append(i[-1])\n"
   ]
  },
  {
   "cell_type": "markdown",
   "id": "differential-quilt",
   "metadata": {},
   "source": [
    "*People who have only one single name are considered in the same list; \n",
    "other people who have more than one name are considered in a different list.  "
   ]
  },
  {
   "cell_type": "code",
   "execution_count": 23,
   "id": "periodic-square",
   "metadata": {},
   "outputs": [],
   "source": [
    "isim_say=Counter(isim)\n",
    "isim1=isim_say.most_common()"
   ]
  },
  {
   "cell_type": "code",
   "execution_count": 24,
   "id": "amended-helen",
   "metadata": {},
   "outputs": [],
   "source": [
    "soyisim_say=Counter(soyisim)\n",
    "soy=soyisim_say.most_common()"
   ]
  },
  {
   "cell_type": "code",
   "execution_count": 25,
   "id": "secondary-million",
   "metadata": {},
   "outputs": [],
   "source": [
    "namedf=pd.DataFrame(isim1,columns=[\"isim\",\"Tekrar\"])"
   ]
  },
  {
   "cell_type": "code",
   "execution_count": 26,
   "id": "complimentary-malawi",
   "metadata": {},
   "outputs": [],
   "source": [
    "namedf=namedf.iloc[:16]"
   ]
  },
  {
   "cell_type": "code",
   "execution_count": 27,
   "id": "encouraging-asthma",
   "metadata": {},
   "outputs": [
    {
     "data": {
      "text/html": [
       "<div>\n",
       "<style scoped>\n",
       "    .dataframe tbody tr th:only-of-type {\n",
       "        vertical-align: middle;\n",
       "    }\n",
       "\n",
       "    .dataframe tbody tr th {\n",
       "        vertical-align: top;\n",
       "    }\n",
       "\n",
       "    .dataframe thead th {\n",
       "        text-align: right;\n",
       "    }\n",
       "</style>\n",
       "<table border=\"1\" class=\"dataframe\">\n",
       "  <thead>\n",
       "    <tr style=\"text-align: right;\">\n",
       "      <th></th>\n",
       "      <th>isim</th>\n",
       "      <th>Tekrar</th>\n",
       "    </tr>\n",
       "  </thead>\n",
       "  <tbody>\n",
       "    <tr>\n",
       "      <th>0</th>\n",
       "      <td>Michael</td>\n",
       "      <td>47</td>\n",
       "    </tr>\n",
       "    <tr>\n",
       "      <th>1</th>\n",
       "      <td>Joseph</td>\n",
       "      <td>24</td>\n",
       "    </tr>\n",
       "    <tr>\n",
       "      <th>2</th>\n",
       "      <td>David</td>\n",
       "      <td>23</td>\n",
       "    </tr>\n",
       "    <tr>\n",
       "      <th>3</th>\n",
       "      <td>Joshua</td>\n",
       "      <td>23</td>\n",
       "    </tr>\n",
       "    <tr>\n",
       "      <th>4</th>\n",
       "      <td>Robert</td>\n",
       "      <td>22</td>\n",
       "    </tr>\n",
       "    <tr>\n",
       "      <th>5</th>\n",
       "      <td>William</td>\n",
       "      <td>22</td>\n",
       "    </tr>\n",
       "    <tr>\n",
       "      <th>6</th>\n",
       "      <td>Christopher</td>\n",
       "      <td>22</td>\n",
       "    </tr>\n",
       "    <tr>\n",
       "      <th>7</th>\n",
       "      <td>Daniel</td>\n",
       "      <td>20</td>\n",
       "    </tr>\n",
       "    <tr>\n",
       "      <th>8</th>\n",
       "      <td>Richard</td>\n",
       "      <td>19</td>\n",
       "    </tr>\n",
       "    <tr>\n",
       "      <th>9</th>\n",
       "      <td>John</td>\n",
       "      <td>18</td>\n",
       "    </tr>\n",
       "    <tr>\n",
       "      <th>10</th>\n",
       "      <td>James</td>\n",
       "      <td>18</td>\n",
       "    </tr>\n",
       "    <tr>\n",
       "      <th>11</th>\n",
       "      <td>Matthew</td>\n",
       "      <td>15</td>\n",
       "    </tr>\n",
       "    <tr>\n",
       "      <th>12</th>\n",
       "      <td>Anthony</td>\n",
       "      <td>15</td>\n",
       "    </tr>\n",
       "    <tr>\n",
       "      <th>13</th>\n",
       "      <td>Jason</td>\n",
       "      <td>13</td>\n",
       "    </tr>\n",
       "    <tr>\n",
       "      <th>14</th>\n",
       "      <td>Charles</td>\n",
       "      <td>13</td>\n",
       "    </tr>\n",
       "    <tr>\n",
       "      <th>15</th>\n",
       "      <td>Jose</td>\n",
       "      <td>12</td>\n",
       "    </tr>\n",
       "  </tbody>\n",
       "</table>\n",
       "</div>"
      ],
      "text/plain": [
       "           isim  Tekrar\n",
       "0       Michael      47\n",
       "1        Joseph      24\n",
       "2         David      23\n",
       "3        Joshua      23\n",
       "4        Robert      22\n",
       "5       William      22\n",
       "6   Christopher      22\n",
       "7        Daniel      20\n",
       "8       Richard      19\n",
       "9          John      18\n",
       "10        James      18\n",
       "11      Matthew      15\n",
       "12      Anthony      15\n",
       "13        Jason      13\n",
       "14      Charles      13\n",
       "15         Jose      12"
      ]
     },
     "execution_count": 27,
     "metadata": {},
     "output_type": "execute_result"
    }
   ],
   "source": [
    "namedf"
   ]
  },
  {
   "cell_type": "markdown",
   "id": "upper-comparative",
   "metadata": {},
   "source": [
    "*It can be inferred from data as to killing that name of Micheal is more common than other names."
   ]
  },
  {
   "cell_type": "markdown",
   "id": "minute-novel",
   "metadata": {},
   "source": [
    "### 15 Most Common Names of People Killed <a class=\"anchor\" id = \"vis_4\" ></a> "
   ]
  },
  {
   "cell_type": "code",
   "execution_count": 50,
   "id": "cardiac-happiness",
   "metadata": {},
   "outputs": [
    {
     "data": {
      "image/png": "[encoded data removed]",
      "text/plain": [
       "<Figure size 1440x720 with 1 Axes>"
      ]
     },
     "metadata": {},
     "output_type": "display_data"
    }
   ],
   "source": [
    "fig = plt.figure(figsize=(20,10))\n",
    "g=sns.barplot(x=namedf.isim,y=namedf.Tekrar)\n",
    "plt.xlabel(\"Names\")\n",
    "plt.title(\"Most common 15 name of killed people\")\n",
    "plt.ylabel(\"Frequency\")\n",
    "plt.xticks(rotation=\"45\")\n",
    "for index, row in namedf.iterrows():\n",
    "    g.text(row.name, row.Tekrar, round(row.Tekrar, 2), color='black', ha=\"center\")\n",
    "plt.show()\n"
   ]
  },
  {
   "cell_type": "code",
   "execution_count": 29,
   "id": "stable-victoria",
   "metadata": {},
   "outputs": [
    {
     "data": {
      "text/html": [
       "<div>\n",
       "<style scoped>\n",
       "    .dataframe tbody tr th:only-of-type {\n",
       "        vertical-align: middle;\n",
       "    }\n",
       "\n",
       "    .dataframe tbody tr th {\n",
       "        vertical-align: top;\n",
       "    }\n",
       "\n",
       "    .dataframe thead th {\n",
       "        text-align: right;\n",
       "    }\n",
       "</style>\n",
       "<table border=\"1\" class=\"dataframe\">\n",
       "  <thead>\n",
       "    <tr style=\"text-align: right;\">\n",
       "      <th></th>\n",
       "      <th>id</th>\n",
       "      <th>name</th>\n",
       "      <th>date</th>\n",
       "      <th>manner_of_death</th>\n",
       "      <th>armed</th>\n",
       "      <th>age</th>\n",
       "      <th>gender</th>\n",
       "      <th>race</th>\n",
       "      <th>city</th>\n",
       "      <th>state</th>\n",
       "      <th>signs_of_mental_illness</th>\n",
       "      <th>threat_level</th>\n",
       "      <th>flee</th>\n",
       "      <th>body_camera</th>\n",
       "    </tr>\n",
       "  </thead>\n",
       "  <tbody>\n",
       "    <tr>\n",
       "      <th>0</th>\n",
       "      <td>3</td>\n",
       "      <td>Tim Elliot</td>\n",
       "      <td>02/01/15</td>\n",
       "      <td>shot</td>\n",
       "      <td>gun</td>\n",
       "      <td>53.0</td>\n",
       "      <td>M</td>\n",
       "      <td>A</td>\n",
       "      <td>Shelton</td>\n",
       "      <td>WA</td>\n",
       "      <td>True</td>\n",
       "      <td>attack</td>\n",
       "      <td>Not fleeing</td>\n",
       "      <td>False</td>\n",
       "    </tr>\n",
       "    <tr>\n",
       "      <th>1</th>\n",
       "      <td>4</td>\n",
       "      <td>Lewis Lee Lembke</td>\n",
       "      <td>02/01/15</td>\n",
       "      <td>shot</td>\n",
       "      <td>gun</td>\n",
       "      <td>47.0</td>\n",
       "      <td>M</td>\n",
       "      <td>W</td>\n",
       "      <td>Aloha</td>\n",
       "      <td>OR</td>\n",
       "      <td>False</td>\n",
       "      <td>attack</td>\n",
       "      <td>Not fleeing</td>\n",
       "      <td>False</td>\n",
       "    </tr>\n",
       "    <tr>\n",
       "      <th>2</th>\n",
       "      <td>5</td>\n",
       "      <td>John Paul Quintero</td>\n",
       "      <td>03/01/15</td>\n",
       "      <td>shot and Tasered</td>\n",
       "      <td>unarmed</td>\n",
       "      <td>23.0</td>\n",
       "      <td>M</td>\n",
       "      <td>H</td>\n",
       "      <td>Wichita</td>\n",
       "      <td>KS</td>\n",
       "      <td>False</td>\n",
       "      <td>other</td>\n",
       "      <td>Not fleeing</td>\n",
       "      <td>False</td>\n",
       "    </tr>\n",
       "    <tr>\n",
       "      <th>3</th>\n",
       "      <td>8</td>\n",
       "      <td>Matthew Hoffman</td>\n",
       "      <td>04/01/15</td>\n",
       "      <td>shot</td>\n",
       "      <td>toy weapon</td>\n",
       "      <td>32.0</td>\n",
       "      <td>M</td>\n",
       "      <td>W</td>\n",
       "      <td>San Francisco</td>\n",
       "      <td>CA</td>\n",
       "      <td>True</td>\n",
       "      <td>attack</td>\n",
       "      <td>Not fleeing</td>\n",
       "      <td>False</td>\n",
       "    </tr>\n",
       "    <tr>\n",
       "      <th>4</th>\n",
       "      <td>9</td>\n",
       "      <td>Michael Rodriguez</td>\n",
       "      <td>04/01/15</td>\n",
       "      <td>shot</td>\n",
       "      <td>nail gun</td>\n",
       "      <td>39.0</td>\n",
       "      <td>M</td>\n",
       "      <td>H</td>\n",
       "      <td>Evans</td>\n",
       "      <td>CO</td>\n",
       "      <td>False</td>\n",
       "      <td>attack</td>\n",
       "      <td>Not fleeing</td>\n",
       "      <td>False</td>\n",
       "    </tr>\n",
       "  </tbody>\n",
       "</table>\n",
       "</div>"
      ],
      "text/plain": [
       "   id                name      date   manner_of_death       armed   age  \\\n",
       "0   3          Tim Elliot  02/01/15              shot         gun  53.0   \n",
       "1   4    Lewis Lee Lembke  02/01/15              shot         gun  47.0   \n",
       "2   5  John Paul Quintero  03/01/15  shot and Tasered     unarmed  23.0   \n",
       "3   8     Matthew Hoffman  04/01/15              shot  toy weapon  32.0   \n",
       "4   9   Michael Rodriguez  04/01/15              shot    nail gun  39.0   \n",
       "\n",
       "  gender race           city state  signs_of_mental_illness threat_level  \\\n",
       "0      M    A        Shelton    WA                     True       attack   \n",
       "1      M    W          Aloha    OR                    False       attack   \n",
       "2      M    H        Wichita    KS                    False        other   \n",
       "3      M    W  San Francisco    CA                     True       attack   \n",
       "4      M    H          Evans    CO                    False       attack   \n",
       "\n",
       "          flee  body_camera  \n",
       "0  Not fleeing        False  \n",
       "1  Not fleeing        False  \n",
       "2  Not fleeing        False  \n",
       "3  Not fleeing        False  \n",
       "4  Not fleeing        False  "
      ]
     },
     "execution_count": 29,
     "metadata": {},
     "output_type": "execute_result"
    }
   ],
   "source": [
    "killing.head()"
   ]
  },
  {
   "cell_type": "markdown",
   "id": "requested-insurance",
   "metadata": {},
   "source": [
    "## People Killed by Race <a class=\"anchor\" id = \"Pre_Race\" ></a> "
   ]
  },
  {
   "cell_type": "code",
   "execution_count": 51,
   "id": "current-space",
   "metadata": {},
   "outputs": [
    {
     "data": {
      "text/plain": [
       "array(['A', 'W', 'H', 'B', 'O', nan, 'N'], dtype=object)"
      ]
     },
     "execution_count": 51,
     "metadata": {},
     "output_type": "execute_result"
    }
   ],
   "source": [
    "killing.race.unique()"
   ]
  },
  {
   "cell_type": "code",
   "execution_count": 52,
   "id": "musical-bloom",
   "metadata": {},
   "outputs": [
    {
     "data": {
      "text/plain": [
       "W    1201\n",
       "B     618\n",
       "H     423\n",
       "A      39\n",
       "N      31\n",
       "O      28\n",
       "Name: race, dtype: int64"
      ]
     },
     "execution_count": 52,
     "metadata": {},
     "output_type": "execute_result"
    }
   ],
   "source": [
    "killing.race.value_counts()"
   ]
  },
  {
   "cell_type": "markdown",
   "id": "empty-genesis",
   "metadata": {},
   "source": [
    "### Missing value on race column."
   ]
  },
  {
   "cell_type": "code",
   "execution_count": 53,
   "id": "funky-czech",
   "metadata": {},
   "outputs": [],
   "source": [
    "killing.dropna(subset=['race'],inplace=True)"
   ]
  },
  {
   "cell_type": "code",
   "execution_count": 54,
   "id": "boolean-bloom",
   "metadata": {},
   "outputs": [
    {
     "data": {
      "text/plain": [
       "0"
      ]
     },
     "execution_count": 54,
     "metadata": {},
     "output_type": "execute_result"
    }
   ],
   "source": [
    "killing.race.isnull().sum()"
   ]
  },
  {
   "cell_type": "code",
   "execution_count": 55,
   "id": "needed-awareness",
   "metadata": {
    "scrolled": true
   },
   "outputs": [
    {
     "data": {
      "text/html": [
       "<div>\n",
       "<style scoped>\n",
       "    .dataframe tbody tr th:only-of-type {\n",
       "        vertical-align: middle;\n",
       "    }\n",
       "\n",
       "    .dataframe tbody tr th {\n",
       "        vertical-align: top;\n",
       "    }\n",
       "\n",
       "    .dataframe thead th {\n",
       "        text-align: right;\n",
       "    }\n",
       "</style>\n",
       "<table border=\"1\" class=\"dataframe\">\n",
       "  <thead>\n",
       "    <tr style=\"text-align: right;\">\n",
       "      <th></th>\n",
       "      <th>id</th>\n",
       "      <th>name</th>\n",
       "      <th>date</th>\n",
       "      <th>manner_of_death</th>\n",
       "      <th>armed</th>\n",
       "      <th>age</th>\n",
       "      <th>gender</th>\n",
       "      <th>race</th>\n",
       "      <th>city</th>\n",
       "      <th>state</th>\n",
       "      <th>signs_of_mental_illness</th>\n",
       "      <th>threat_level</th>\n",
       "      <th>flee</th>\n",
       "      <th>body_camera</th>\n",
       "    </tr>\n",
       "  </thead>\n",
       "  <tbody>\n",
       "    <tr>\n",
       "      <th>0</th>\n",
       "      <td>3</td>\n",
       "      <td>Tim Elliot</td>\n",
       "      <td>02/01/15</td>\n",
       "      <td>shot</td>\n",
       "      <td>gun</td>\n",
       "      <td>53.0</td>\n",
       "      <td>M</td>\n",
       "      <td>A</td>\n",
       "      <td>Shelton</td>\n",
       "      <td>WA</td>\n",
       "      <td>True</td>\n",
       "      <td>attack</td>\n",
       "      <td>Not fleeing</td>\n",
       "      <td>False</td>\n",
       "    </tr>\n",
       "    <tr>\n",
       "      <th>1</th>\n",
       "      <td>4</td>\n",
       "      <td>Lewis Lee Lembke</td>\n",
       "      <td>02/01/15</td>\n",
       "      <td>shot</td>\n",
       "      <td>gun</td>\n",
       "      <td>47.0</td>\n",
       "      <td>M</td>\n",
       "      <td>W</td>\n",
       "      <td>Aloha</td>\n",
       "      <td>OR</td>\n",
       "      <td>False</td>\n",
       "      <td>attack</td>\n",
       "      <td>Not fleeing</td>\n",
       "      <td>False</td>\n",
       "    </tr>\n",
       "    <tr>\n",
       "      <th>2</th>\n",
       "      <td>5</td>\n",
       "      <td>John Paul Quintero</td>\n",
       "      <td>03/01/15</td>\n",
       "      <td>shot and Tasered</td>\n",
       "      <td>unarmed</td>\n",
       "      <td>23.0</td>\n",
       "      <td>M</td>\n",
       "      <td>H</td>\n",
       "      <td>Wichita</td>\n",
       "      <td>KS</td>\n",
       "      <td>False</td>\n",
       "      <td>other</td>\n",
       "      <td>Not fleeing</td>\n",
       "      <td>False</td>\n",
       "    </tr>\n",
       "    <tr>\n",
       "      <th>3</th>\n",
       "      <td>8</td>\n",
       "      <td>Matthew Hoffman</td>\n",
       "      <td>04/01/15</td>\n",
       "      <td>shot</td>\n",
       "      <td>toy weapon</td>\n",
       "      <td>32.0</td>\n",
       "      <td>M</td>\n",
       "      <td>W</td>\n",
       "      <td>San Francisco</td>\n",
       "      <td>CA</td>\n",
       "      <td>True</td>\n",
       "      <td>attack</td>\n",
       "      <td>Not fleeing</td>\n",
       "      <td>False</td>\n",
       "    </tr>\n",
       "    <tr>\n",
       "      <th>4</th>\n",
       "      <td>9</td>\n",
       "      <td>Michael Rodriguez</td>\n",
       "      <td>04/01/15</td>\n",
       "      <td>shot</td>\n",
       "      <td>nail gun</td>\n",
       "      <td>39.0</td>\n",
       "      <td>M</td>\n",
       "      <td>H</td>\n",
       "      <td>Evans</td>\n",
       "      <td>CO</td>\n",
       "      <td>False</td>\n",
       "      <td>attack</td>\n",
       "      <td>Not fleeing</td>\n",
       "      <td>False</td>\n",
       "    </tr>\n",
       "  </tbody>\n",
       "</table>\n",
       "</div>"
      ],
      "text/plain": [
       "   id                name      date   manner_of_death       armed   age  \\\n",
       "0   3          Tim Elliot  02/01/15              shot         gun  53.0   \n",
       "1   4    Lewis Lee Lembke  02/01/15              shot         gun  47.0   \n",
       "2   5  John Paul Quintero  03/01/15  shot and Tasered     unarmed  23.0   \n",
       "3   8     Matthew Hoffman  04/01/15              shot  toy weapon  32.0   \n",
       "4   9   Michael Rodriguez  04/01/15              shot    nail gun  39.0   \n",
       "\n",
       "  gender race           city state  signs_of_mental_illness threat_level  \\\n",
       "0      M    A        Shelton    WA                     True       attack   \n",
       "1      M    W          Aloha    OR                    False       attack   \n",
       "2      M    H        Wichita    KS                    False        other   \n",
       "3      M    W  San Francisco    CA                     True       attack   \n",
       "4      M    H          Evans    CO                    False       attack   \n",
       "\n",
       "          flee  body_camera  \n",
       "0  Not fleeing        False  \n",
       "1  Not fleeing        False  \n",
       "2  Not fleeing        False  \n",
       "3  Not fleeing        False  \n",
       "4  Not fleeing        False  "
      ]
     },
     "execution_count": 55,
     "metadata": {},
     "output_type": "execute_result"
    }
   ],
   "source": [
    "killing.head()"
   ]
  },
  {
   "cell_type": "markdown",
   "id": "mathematical-update",
   "metadata": {},
   "source": [
    "### Graphic of Pie Chart <a class=\"anchor\" id = \"vis_5\" ></a> "
   ]
  },
  {
   "cell_type": "code",
   "execution_count": 62,
   "id": "split-festival",
   "metadata": {},
   "outputs": [
    {
     "data": {
      "text/plain": [
       "Text(0.5, 1.0, 'Killed People According to Races')"
      ]
     },
     "execution_count": 62,
     "metadata": {},
     "output_type": "execute_result"
    },
    {
     "data": {
      "image/png": "[encoded data removed]",
      "text/plain": [
       "<Figure size 864x576 with 1 Axes>"
      ]
     },
     "metadata": {},
     "output_type": "display_data"
    }
   ],
   "source": [
    "killing.race.value_counts().plot(kind = \"pie\",autopct='%.1f%%', figsize =(12,8) )\n",
    "plt.title(\"Killed People According to Races\", bbox={'facecolor':'0.7', 'pad':5})"
   ]
  },
  {
   "cell_type": "markdown",
   "id": "devoted-attraction",
   "metadata": {},
   "source": [
    "*It can be seen in pie chart that race of white forms %51.3 in all races.   "
   ]
  },
  {
   "cell_type": "markdown",
   "id": "forty-damage",
   "metadata": {},
   "source": [
    "### Box plot of age in both genders separated by manner of death <a class=\"anchor\" id = \"vis_6\" ></a> "
   ]
  },
  {
   "cell_type": "code",
   "execution_count": null,
   "id": "strange-agenda",
   "metadata": {},
   "outputs": [],
   "source": [
    "killing.head()"
   ]
  },
  {
   "cell_type": "code",
   "execution_count": 63,
   "id": "failing-commonwealth",
   "metadata": {},
   "outputs": [
    {
     "data": {
      "text/plain": [
       "array(['shot', 'shot and Tasered'], dtype=object)"
      ]
     },
     "execution_count": 63,
     "metadata": {},
     "output_type": "execute_result"
    }
   ],
   "source": [
    "killing.manner_of_death.unique()"
   ]
  },
  {
   "cell_type": "code",
   "execution_count": 68,
   "id": "written-floor",
   "metadata": {},
   "outputs": [
    {
     "data": {
      "text/plain": [
       "<Figure size 1008x576 with 0 Axes>"
      ]
     },
     "metadata": {},
     "output_type": "display_data"
    },
    {
     "data": {
      "image/png": "[encoded data removed]",
      "text/plain": [
       "<Figure size 432x288 with 1 Axes>"
      ]
     },
     "metadata": {},
     "output_type": "display_data"
    }
   ],
   "source": [
    "fig=plt.figure(figsize=(14,8))\n",
    "fig,a=plt.subplots(1,1)\n",
    "sb.boxplot(x=\"gender\",y=\"age\",hue=\"manner_of_death\",data=killing)\n",
    "sb.color_palette(\"muted\",12)\n",
    "sb.set_palette(\"muted\",12)"
   ]
  },
  {
   "cell_type": "markdown",
   "id": "stable-powell",
   "metadata": {},
   "source": [
    "*When we examine the box plot, it can be inferred that the rate of gender of male is almost the same in terms of \"shot\" and \"shot and tasered\"\n",
    "\n",
    "*According to the data the police do not prefer to kill females beyond 40 years old by electroshocking.\n",
    "\n"
   ]
  },
  {
   "cell_type": "markdown",
   "id": "applicable-headquarters",
   "metadata": {},
   "source": [
    "### Swarm plot of age in both genders separated by manner of death <a class=\"anchor\" id = \"vis_7\" ></a> "
   ]
  },
  {
   "cell_type": "code",
   "execution_count": 69,
   "id": "proof-fantasy",
   "metadata": {},
   "outputs": [
    {
     "data": {
      "image/png": "[encoded data removed]",
      "text/plain": [
       "<Figure size 432x288 with 1 Axes>"
      ]
     },
     "metadata": {},
     "output_type": "display_data"
    }
   ],
   "source": [
    "ax=sb.swarmplot(x=\"gender\",y=\"age\",hue=\"manner_of_death\",data=killing)"
   ]
  },
  {
   "cell_type": "markdown",
   "id": "asian-hours",
   "metadata": {},
   "source": [
    "*When we compare male and female data, the rate of people who were killed by electroshocking is lower than rate of people who were killed only by shot.\n"
   ]
  },
  {
   "cell_type": "markdown",
   "id": "adjusted-illness",
   "metadata": {},
   "source": [
    "### Number of people by gender <a class=\"anchor\" id = \"vis_8\" ></a>  "
   ]
  },
  {
   "cell_type": "code",
   "execution_count": 70,
   "id": "incomplete-plenty",
   "metadata": {},
   "outputs": [
    {
     "data": {
      "image/png": "[encoded data removed]",
      "text/plain": [
       "<Figure size 432x288 with 1 Axes>"
      ]
     },
     "metadata": {},
     "output_type": "display_data"
    }
   ],
   "source": [
    "import seaborn as sns\n",
    "sns.set_style(\"white\")\n",
    "ax=sns.countplot(x=\"gender\", data=killing)"
   ]
  },
  {
   "cell_type": "markdown",
   "id": "oriental-blank",
   "metadata": {},
   "source": [
    "### Bar graph of 7 most common killing weapons <a class=\"anchor\" id = \"vis_9\" ></a> "
   ]
  },
  {
   "cell_type": "code",
   "execution_count": 73,
   "id": "painful-deficit",
   "metadata": {},
   "outputs": [
    {
     "data": {
      "text/plain": [
       "gun                                 1289\n",
       "knife                                338\n",
       "unarmed                              170\n",
       "vehicle                              165\n",
       "toy weapon                           102\n",
       "                                    ... \n",
       "fireworks                              1\n",
       "contractor's level                     1\n",
       "baseball bat and fireplace poker       1\n",
       "air conditioner                        1\n",
       "bayonet                                1\n",
       "Name: armed, Length: 67, dtype: int64"
      ]
     },
     "execution_count": 73,
     "metadata": {},
     "output_type": "execute_result"
    }
   ],
   "source": [
    "weapons"
   ]
  },
  {
   "cell_type": "code",
   "execution_count": 74,
   "id": "continental-encounter",
   "metadata": {},
   "outputs": [
    {
     "data": {
      "text/html": [
       "<div>\n",
       "<style scoped>\n",
       "    .dataframe tbody tr th:only-of-type {\n",
       "        vertical-align: middle;\n",
       "    }\n",
       "\n",
       "    .dataframe tbody tr th {\n",
       "        vertical-align: top;\n",
       "    }\n",
       "\n",
       "    .dataframe thead th {\n",
       "        text-align: right;\n",
       "    }\n",
       "</style>\n",
       "<table border=\"1\" class=\"dataframe\">\n",
       "  <thead>\n",
       "    <tr style=\"text-align: right;\">\n",
       "      <th></th>\n",
       "      <th>Frequency</th>\n",
       "    </tr>\n",
       "  </thead>\n",
       "  <tbody>\n",
       "    <tr>\n",
       "      <th>gun</th>\n",
       "      <td>1289</td>\n",
       "    </tr>\n",
       "    <tr>\n",
       "      <th>knife</th>\n",
       "      <td>338</td>\n",
       "    </tr>\n",
       "    <tr>\n",
       "      <th>unarmed</th>\n",
       "      <td>170</td>\n",
       "    </tr>\n",
       "    <tr>\n",
       "      <th>vehicle</th>\n",
       "      <td>165</td>\n",
       "    </tr>\n",
       "    <tr>\n",
       "      <th>toy weapon</th>\n",
       "      <td>102</td>\n",
       "    </tr>\n",
       "    <tr>\n",
       "      <th>undetermined</th>\n",
       "      <td>101</td>\n",
       "    </tr>\n",
       "    <tr>\n",
       "      <th>machete</th>\n",
       "      <td>17</td>\n",
       "    </tr>\n",
       "  </tbody>\n",
       "</table>\n",
       "</div>"
      ],
      "text/plain": [
       "              Frequency\n",
       "gun                1289\n",
       "knife               338\n",
       "unarmed             170\n",
       "vehicle             165\n",
       "toy weapon          102\n",
       "undetermined        101\n",
       "machete              17"
      ]
     },
     "execution_count": 74,
     "metadata": {},
     "output_type": "execute_result"
    }
   ],
   "source": [
    "weaponsdf"
   ]
  },
  {
   "cell_type": "code",
   "execution_count": 99,
   "id": "threatened-seven",
   "metadata": {
    "scrolled": true
   },
   "outputs": [
    {
     "data": {
      "image/png": "[encoded data removed]",
      "text/plain": [
       "<Figure size 1440x720 with 1 Axes>"
      ]
     },
     "metadata": {},
     "output_type": "display_data"
    }
   ],
   "source": [
    "import seaborn as sns\n",
    "sns.set_theme(style=\"darkgrid\")\n",
    "#weapons=killing.armed.value_counts().sort_values(ascending=False)\n",
    "weaponsdf=pd.DataFrame(killing.armed.value_counts(),columns=[\"armed\"])\n",
    "weaponsdf=weaponsdf.iloc[:7]\n",
    "weaponsdf\n",
    "weaponsdf=weaponsdf.rename(columns={\"armed\": \"Frequency\"})\n",
    "\n",
    "sns.set_style(\"white\")\n",
    "fig=plt.figure(figsize=(20,10))\n",
    "g=sns.barplot(x=weaponsdf.index,y=weaponsdf.Frequency,data=weaponsdf)\n",
    "plt.xlabel(\"Weapon Types\")\n",
    "plt.ylabel(\"Number of Weapons\")\n",
    "sb.set()"
   ]
  },
  {
   "cell_type": "markdown",
   "id": "olympic-minimum",
   "metadata": {},
   "source": [
    "*It is obvious that people carrying gun are the most type of armed people who were killed by the police. \n",
    "It can also be seen that people not armed have been killed by the police. Police tend to kill people who attempt crime."
   ]
  },
  {
   "cell_type": "markdown",
   "id": "average-appreciation",
   "metadata": {},
   "source": [
    "### Bar graph of Under 25 and Above 25 <a class=\"anchor\" id = \"vis_10\" ></a> "
   ]
  },
  {
   "cell_type": "code",
   "execution_count": 100,
   "id": "spanish-injury",
   "metadata": {},
   "outputs": [
    {
     "data": {
      "text/plain": [
       "0       53.0\n",
       "1       47.0\n",
       "2       23.0\n",
       "3       32.0\n",
       "4       39.0\n",
       "        ... \n",
       "2523    25.0\n",
       "2525    39.0\n",
       "2528     NaN\n",
       "2533    28.0\n",
       "2534    32.0\n",
       "Name: age, Length: 2340, dtype: float64"
      ]
     },
     "execution_count": 100,
     "metadata": {},
     "output_type": "execute_result"
    }
   ],
   "source": [
    "killing.age"
   ]
  },
  {
   "cell_type": "code",
   "execution_count": 101,
   "id": "adolescent-volunteer",
   "metadata": {},
   "outputs": [],
   "source": [
    "killing.dropna(subset=[\"age\"],inplace=True)"
   ]
  },
  {
   "cell_type": "code",
   "execution_count": 102,
   "id": "streaming-bunch",
   "metadata": {},
   "outputs": [
    {
     "data": {
      "text/plain": [
       "0"
      ]
     },
     "execution_count": 102,
     "metadata": {},
     "output_type": "execute_result"
    }
   ],
   "source": [
    "killing.age.isnull().sum()"
   ]
  },
  {
   "cell_type": "code",
   "execution_count": 103,
   "id": "selected-glenn",
   "metadata": {},
   "outputs": [],
   "source": [
    "killing[\"age\"]=killing.age.map(lambda\n",
    "                               x:\"above25\" if x>25  else \"beneath25\")"
   ]
  },
  {
   "cell_type": "code",
   "execution_count": 104,
   "id": "abstract-surveillance",
   "metadata": {},
   "outputs": [
    {
     "data": {
      "image/png": "[encoded data removed]",
      "text/plain": [
       "<Figure size 432x288 with 1 Axes>"
      ]
     },
     "metadata": {},
     "output_type": "display_data"
    }
   ],
   "source": [
    "sns.set_style(\"white\")\n",
    "ax=sns.countplot(x=\"age\", data=killing)"
   ]
  },
  {
   "cell_type": "markdown",
   "id": "sunrise-family",
   "metadata": {},
   "source": [
    "### Number of people killed by race <a class=\"anchor\" id = \"vis_11\" ></a>"
   ]
  },
  {
   "cell_type": "code",
   "execution_count": 106,
   "id": "equal-doctor",
   "metadata": {},
   "outputs": [
    {
     "data": {
      "image/png": "[encoded data removed]",
      "text/plain": [
       "<Figure size 432x288 with 1 Axes>"
      ]
     },
     "metadata": {},
     "output_type": "display_data"
    }
   ],
   "source": [
    "sns.set_style(\"white\")\n",
    "ax=sns.countplot(x=\"race\", data=killing)"
   ]
  },
  {
   "cell_type": "markdown",
   "id": "reduced-vegetarian",
   "metadata": {},
   "source": [
    "*Either the number of white people killed is more than others or the number of white people killed is more than other races. "
   ]
  },
  {
   "cell_type": "markdown",
   "id": "vertical-prefix",
   "metadata": {},
   "source": [
    "### Bar Graph of 12 most dangerous cities <a class=\"anchor\" id = \"vis_12\" ></a>"
   ]
  },
  {
   "cell_type": "code",
   "execution_count": 119,
   "id": "wireless-knowing",
   "metadata": {},
   "outputs": [],
   "source": [
    "citycprdf=pd.DataFrame(killing2.city.value_counts().iloc[:12])"
   ]
  },
  {
   "cell_type": "code",
   "execution_count": 120,
   "id": "standing-petite",
   "metadata": {},
   "outputs": [
    {
     "data": {
      "text/html": [
       "<div>\n",
       "<style scoped>\n",
       "    .dataframe tbody tr th:only-of-type {\n",
       "        vertical-align: middle;\n",
       "    }\n",
       "\n",
       "    .dataframe tbody tr th {\n",
       "        vertical-align: top;\n",
       "    }\n",
       "\n",
       "    .dataframe thead th {\n",
       "        text-align: right;\n",
       "    }\n",
       "</style>\n",
       "<table border=\"1\" class=\"dataframe\">\n",
       "  <thead>\n",
       "    <tr style=\"text-align: right;\">\n",
       "      <th></th>\n",
       "      <th>city</th>\n",
       "    </tr>\n",
       "  </thead>\n",
       "  <tbody>\n",
       "    <tr>\n",
       "      <th>Los Angeles</th>\n",
       "      <td>39</td>\n",
       "    </tr>\n",
       "    <tr>\n",
       "      <th>Phoenix</th>\n",
       "      <td>31</td>\n",
       "    </tr>\n",
       "    <tr>\n",
       "      <th>Houston</th>\n",
       "      <td>27</td>\n",
       "    </tr>\n",
       "    <tr>\n",
       "      <th>Chicago</th>\n",
       "      <td>25</td>\n",
       "    </tr>\n",
       "    <tr>\n",
       "      <th>Las Vegas</th>\n",
       "      <td>21</td>\n",
       "    </tr>\n",
       "    <tr>\n",
       "      <th>San Antonio</th>\n",
       "      <td>20</td>\n",
       "    </tr>\n",
       "    <tr>\n",
       "      <th>Columbus</th>\n",
       "      <td>19</td>\n",
       "    </tr>\n",
       "    <tr>\n",
       "      <th>Miami</th>\n",
       "      <td>18</td>\n",
       "    </tr>\n",
       "    <tr>\n",
       "      <th>Austin</th>\n",
       "      <td>18</td>\n",
       "    </tr>\n",
       "    <tr>\n",
       "      <th>St. Louis</th>\n",
       "      <td>15</td>\n",
       "    </tr>\n",
       "    <tr>\n",
       "      <th>Albuquerque</th>\n",
       "      <td>14</td>\n",
       "    </tr>\n",
       "    <tr>\n",
       "      <th>Indianapolis</th>\n",
       "      <td>14</td>\n",
       "    </tr>\n",
       "  </tbody>\n",
       "</table>\n",
       "</div>"
      ],
      "text/plain": [
       "              city\n",
       "Los Angeles     39\n",
       "Phoenix         31\n",
       "Houston         27\n",
       "Chicago         25\n",
       "Las Vegas       21\n",
       "San Antonio     20\n",
       "Columbus        19\n",
       "Miami           18\n",
       "Austin          18\n",
       "St. Louis       15\n",
       "Albuquerque     14\n",
       "Indianapolis    14"
      ]
     },
     "execution_count": 120,
     "metadata": {},
     "output_type": "execute_result"
    }
   ],
   "source": [
    "citycprdf                                                             "
   ]
  },
  {
   "cell_type": "code",
   "execution_count": 121,
   "id": "continuing-palestine",
   "metadata": {},
   "outputs": [
    {
     "data": {
      "image/png": "[encoded data removed]",
      "text/plain": [
       "<Figure size 1440x720 with 1 Axes>"
      ]
     },
     "metadata": {},
     "output_type": "display_data"
    }
   ],
   "source": [
    "sns.set_style(\"white\")\n",
    "figure=plt.figure(figsize=(20,10))\n",
    "ax=sns.barplot(x=citycprdf.index,y=citycprdf.city, data=citycprdf)\n",
    "plt.xticks(rotation=\"45\")\n",
    "plt.show()"
   ]
  },
  {
   "cell_type": "markdown",
   "id": "familiar-understanding",
   "metadata": {},
   "source": [
    "*It can be seen in the graph that Los Angeles is the most dangerous city when compared to other cities."
   ]
  },
  {
   "cell_type": "markdown",
   "id": "balanced-graduate",
   "metadata": {},
   "source": [
    "### Bar Graph of 20 most dangerous states <a class=\"anchor\" id = \"vis_13\" ></a>"
   ]
  },
  {
   "cell_type": "code",
   "execution_count": 122,
   "id": "substantial-covering",
   "metadata": {},
   "outputs": [],
   "source": [
    "states=killing2.state.value_counts()\n",
    "statesdf=pd.DataFrame(states)\n",
    "statesdf=statesdf.iloc[:20]"
   ]
  },
  {
   "cell_type": "code",
   "execution_count": 123,
   "id": "polyphonic-shark",
   "metadata": {},
   "outputs": [
    {
     "data": {
      "image/png": "[encoded data removed]",
      "text/plain": [
       "<Figure size 1440x720 with 1 Axes>"
      ]
     },
     "metadata": {},
     "output_type": "display_data"
    }
   ],
   "source": [
    "sns.set_style(\"white\")\n",
    "figure=plt.figure(figsize=(20,10))\n",
    "ax=sns.barplot(x=statesdf.index,y=statesdf.state, data=statesdf)\n",
    "plt.title(\"Most Dangerous State\")\n",
    "\n",
    "plt.show()"
   ]
  },
  {
   "cell_type": "markdown",
   "id": "killing-content",
   "metadata": {},
   "source": [
    "*Despite the common belief that the highest rate of crime is in Texas, analysis shows that California  takes over this notoriety.  "
   ]
  },
  {
   "cell_type": "markdown",
   "id": "broke-function",
   "metadata": {},
   "source": [
    "### Bar Graph of People Killed Having Mental Ilness or not <a class=\"anchor\" id = \"vis_14\" ></a>"
   ]
  },
  {
   "cell_type": "code",
   "execution_count": 124,
   "id": "measured-feelings",
   "metadata": {
    "scrolled": true
   },
   "outputs": [
    {
     "data": {
      "image/png": "[encoded data removed]",
      "text/plain": [
       "<Figure size 720x360 with 1 Axes>"
      ]
     },
     "metadata": {},
     "output_type": "display_data"
    }
   ],
   "source": [
    "figure=plt.figure(figsize=(10,5))\n",
    "plt.title(\"Having mental ilness or not\")\n",
    "ax=sns.countplot(x=\"signs_of_mental_illness\", data=killing)\n",
    "plt.show()"
   ]
  },
  {
   "cell_type": "markdown",
   "id": "surrounded-macedonia",
   "metadata": {},
   "source": [
    "*It can be said that plenty number of people killed by the police don't have mental ilnesses."
   ]
  },
  {
   "cell_type": "markdown",
   "id": "academic-terrain",
   "metadata": {},
   "source": [
    "### Number of Threat Types <a class=\"anchor\" id = \"vis_15\" ></a>"
   ]
  },
  {
   "cell_type": "code",
   "execution_count": 125,
   "id": "rational-leisure",
   "metadata": {},
   "outputs": [
    {
     "data": {
      "image/png": "[encoded data removed]",
      "text/plain": [
       "<Figure size 720x360 with 1 Axes>"
      ]
     },
     "metadata": {},
     "output_type": "display_data"
    }
   ],
   "source": [
    "figure=plt.figure(figsize=(10,5))\n",
    "plt.title(\"Threat types\")\n",
    "ax=sns.countplot(x=\"threat_level\", data=killing)\n",
    "plt.show()"
   ]
  },
  {
   "cell_type": "markdown",
   "id": "banner-preliminary",
   "metadata": {},
   "source": [
    "*When data is analyzed it can be seen that people killed by the police tend to protect themselves."
   ]
  },
  {
   "cell_type": "markdown",
   "id": "dominican-external",
   "metadata": {},
   "source": [
    "### Number of Flee Types <a class=\"anchor\" id = \"vis_16\" ></a>"
   ]
  },
  {
   "cell_type": "code",
   "execution_count": 126,
   "id": "surrounded-blade",
   "metadata": {
    "scrolled": true
   },
   "outputs": [
    {
     "data": {
      "image/png": "[encoded data removed]",
      "text/plain": [
       "<Figure size 720x360 with 1 Axes>"
      ]
     },
     "metadata": {},
     "output_type": "display_data"
    }
   ],
   "source": [
    "figure=plt.figure(figsize=(10,5))\n",
    "plt.title(\"Flee types\")\n",
    "ax=sns.countplot(x=\"flee\", data=killing)\n",
    "plt.show()"
   ]
  },
  {
   "cell_type": "markdown",
   "id": "purple-prison",
   "metadata": {},
   "source": [
    "*It can be observed that people killed by the police don't attempt to flee."
   ]
  },
  {
   "cell_type": "markdown",
   "id": "acquired-split",
   "metadata": {},
   "source": [
    "## CONCLUSION <a class=\"anchor\" id = \"conc\" ></a>"
   ]
  },
  {
   "cell_type": "markdown",
   "id": "appropriate-insured",
   "metadata": {},
   "source": [
    "Firstly, data concerning poverty rate are analyzed by state. It can be understood that the poverty rate of CA,TX,FL,AZ \n",
    "is quite high when they are compared to other cities. \n",
    "In addition, when data as to killing are observed, it can be inferred  CA,TX,FL,AZ are in the most 4 dangerous cities of all the cities in the USA.\n",
    "Therefore, the poverty rate affects cities in terms of dangerousness.\n",
    "\n",
    "Secondly, whether the police apply positive discrimination or not is analyzed; however, it cannot be inferred any results about discrimination owing to\n",
    "insufficient data for the number of males and females who have committed crimes. \n",
    "\n"
   ]
  }
 ],
 "metadata": {
  "kernelspec": {
   "display_name": "Python 3",
   "language": "python",
   "name": "python3"
  },
  "language_info": {
   "codemirror_mode": {
    "name": "ipython",
    "version": 3
   },
   "file_extension": ".py",
   "mimetype": "text/x-python",
   "name": "python",
   "nbconvert_exporter": "python",
   "pygments_lexer": "ipython3",
   "version": "3.8.8"
  }
 },
 "nbformat": 4,
 "nbformat_minor": 5
}
